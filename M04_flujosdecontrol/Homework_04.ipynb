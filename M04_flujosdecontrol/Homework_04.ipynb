{
 "cells": [
  {
   "cell_type": "code",
   "execution_count": 31,
   "metadata": {},
   "outputs": [
    {
     "name": "stdout",
     "output_type": "stream",
     "text": [
      "5 es mayor que cero\n"
     ]
    }
   ],
   "source": [
    "#1\n",
    "a = 5\n",
    "if (a>0):\n",
    "    print(a, \"es mayor que cero\")\n",
    "elif (a<0):\n",
    "    print(a, \"es menor que cero\")\n",
    "else:\n",
    "    print(a, \"es igual a cero\")"
   ]
  },
  {
   "cell_type": "code",
   "execution_count": 32,
   "metadata": {},
   "outputs": [
    {
     "name": "stdout",
     "output_type": "stream",
     "text": [
      "Las variables son de tipos diferentes\n"
     ]
    }
   ],
   "source": [
    "#2\n",
    "v1 = 1234\n",
    "v2 = 'Oscar'\n",
    "if (type(v1) == type(v2)):\n",
    "    print('Las variables son del mismo tipo')\n",
    "else:\n",
    "    print('Las variables son de tipos diferentes')"
   ]
  },
  {
   "cell_type": "code",
   "execution_count": 33,
   "metadata": {},
   "outputs": [
    {
     "name": "stdout",
     "output_type": "stream",
     "text": [
      "1 es impar\n",
      "2 es par\n",
      "3 es impar\n",
      "4 es par\n",
      "5 es impar\n",
      "6 es par\n",
      "7 es impar\n",
      "8 es par\n",
      "9 es impar\n",
      "10 es par\n",
      "11 es impar\n",
      "12 es par\n",
      "13 es impar\n",
      "14 es par\n",
      "15 es impar\n",
      "16 es par\n",
      "17 es impar\n",
      "18 es par\n",
      "19 es impar\n",
      "20 es par\n"
     ]
    }
   ],
   "source": [
    "#3. Para los valores enteros del 1 al 20, imprimir por pantalla si es par o impa\n",
    "for num in range(1,21):\n",
    "    if(num%2 == 0):\n",
    "        print(f'{num} es par')\n",
    "    else:\n",
    "        print(f'{num} es impar')"
   ]
  },
  {
   "cell_type": "code",
   "execution_count": 34,
   "metadata": {},
   "outputs": [
    {
     "name": "stdout",
     "output_type": "stream",
     "text": [
      "1 es impar\n",
      "2 es par\n",
      "3 es impar\n",
      "4 es par\n",
      "5 es impar\n",
      "6 es par\n",
      "7 es impar\n",
      "8 es par\n",
      "9 es impar\n",
      "10 es par\n",
      "11 es impar\n",
      "12 es par\n",
      "13 es impar\n",
      "14 es par\n",
      "15 es impar\n",
      "16 es par\n",
      "17 es impar\n",
      "18 es par\n",
      "19 es impar\n",
      "20 es par\n"
     ]
    }
   ],
   "source": [
    "#3. Para los valores enteros del 1 al 20, imprimir por pantalla si es par o impa\n",
    "num = 1\n",
    "while(num<=20):\n",
    "    if(num%2 == 0):\n",
    "        print(f'{num} es par')\n",
    "    else:\n",
    "        print(f'{num} es impar')\n",
    "    num+=1"
   ]
  },
  {
   "cell_type": "code",
   "execution_count": 35,
   "metadata": {},
   "outputs": [
    {
     "name": "stdout",
     "output_type": "stream",
     "text": [
      "0  Elevado a la 3ra potencia: 0\n",
      "1  Elevado a la 3ra potencia: 1\n",
      "2  Elevado a la 3ra potencia: 8\n",
      "3  Elevado a la 3ra potencia: 27\n",
      "4  Elevado a la 3ra potencia: 64\n",
      "5  Elevado a la 3ra potencia: 125\n"
     ]
    }
   ],
   "source": [
    "#4. En un ciclo for mostrar para los valores entre 0 y 5 el resultado de elevarlo a la potencia igual a 3\n",
    "for num in range(0,6):\n",
    "    print(num, ' Elevado a la 3ra potencia:', (num**3))"
   ]
  },
  {
   "cell_type": "code",
   "execution_count": 36,
   "metadata": {},
   "outputs": [
    {
     "name": "stdout",
     "output_type": "stream",
     "text": [
      "0\n",
      "1\n",
      "2\n",
      "3\n",
      "4\n",
      "5\n"
     ]
    }
   ],
   "source": [
    "#5 Crear una variable que contenga un número entero y realizar un ciclo for la misma cantidad de ciclos\n",
    "num = 6\n",
    "for i in range(0,num):\n",
    "    print(i)\n"
   ]
  },
  {
   "cell_type": "code",
   "execution_count": 37,
   "metadata": {},
   "outputs": [
    {
     "name": "stdout",
     "output_type": "stream",
     "text": [
      "el factorial es: 720\n"
     ]
    }
   ],
   "source": [
    "#6 Utilizar un ciclo while para realizar el factorial de un número guardado en una variable, sólo si la variable contiene un número entero mayor a 0\n",
    "num = 6\n",
    "if (type(num) == int):\n",
    "    if(num>0):\n",
    "        factorial = num\n",
    "        while (num > 2):\n",
    "            num -=1\n",
    "            factorial *= num\n",
    "        print('el factorial es:', factorial)\n",
    "    else:\n",
    "        print(\"el número no es mayor que cero\")\n",
    "else:\n",
    "    print('El tipo de dato no es numérico')"
   ]
  },
  {
   "cell_type": "code",
   "execution_count": 38,
   "metadata": {},
   "outputs": [
    {
     "name": "stdout",
     "output_type": "stream",
     "text": [
      "ciclo while: 1\n",
      "ciclo for: 1\n",
      "ciclo while: 2\n",
      "ciclo for: 1\n",
      "ciclo for: 2\n",
      "ciclo while: 3\n",
      "ciclo for: 1\n",
      "ciclo for: 2\n",
      "ciclo for: 3\n",
      "ciclo while: 4\n",
      "ciclo for: 1\n",
      "ciclo for: 2\n",
      "ciclo for: 3\n",
      "ciclo for: 4\n",
      "ciclo while: 5\n",
      "ciclo for: 1\n",
      "ciclo for: 2\n",
      "ciclo for: 3\n",
      "ciclo for: 4\n",
      "ciclo for: 5\n"
     ]
    }
   ],
   "source": [
    "#7 Crear un ciclo for dentro de un ciclo while\n",
    "num = 1\n",
    "while (num < 6):\n",
    "    print('ciclo while:', num)\n",
    "    for i in range(1, num+1):\n",
    "        print('ciclo for:', i)\n",
    "    num+=1\n"
   ]
  },
  {
   "cell_type": "code",
   "execution_count": 39,
   "metadata": {},
   "outputs": [
    {
     "name": "stdout",
     "output_type": "stream",
     "text": [
      "ciclo for: 1\n",
      "ciclo while: 1\n",
      "ciclo while: 2\n",
      "ciclo while: 3\n",
      "ciclo while: 4\n",
      "ciclo for: 2\n",
      "ciclo while: 1\n",
      "ciclo while: 2\n",
      "ciclo while: 3\n",
      "ciclo while: 4\n",
      "ciclo for: 3\n",
      "ciclo while: 1\n",
      "ciclo while: 2\n",
      "ciclo while: 3\n",
      "ciclo while: 4\n",
      "ciclo for: 4\n",
      "ciclo while: 1\n",
      "ciclo while: 2\n",
      "ciclo while: 3\n",
      "ciclo while: 4\n"
     ]
    }
   ],
   "source": [
    "#8 Crear un ciclo while dentro de un ciclo for\n",
    "num = 5\n",
    "for i in range(1, num):\n",
    "    print('ciclo for:', i)\n",
    "    j=1\n",
    "    while (j < num):\n",
    "        print('ciclo while:', j)\n",
    "        j+=1"
   ]
  },
  {
   "cell_type": "code",
   "execution_count": 40,
   "metadata": {},
   "outputs": [
    {
     "name": "stdout",
     "output_type": "stream",
     "text": [
      "0\n",
      "1\n",
      "2\n",
      "3\n",
      "5\n",
      "7\n",
      "11\n",
      "13\n",
      "17\n",
      "19\n",
      "23\n",
      "29\n"
     ]
    }
   ],
   "source": [
    "#9 Imprimir los números primos existentes entre 0 y 30\n",
    "\n",
    "maximo=30\n",
    "num = 0\n",
    "primo = True\n",
    "while (num < maximo):\n",
    "    for div in range(2, num):\n",
    "        if (num % div == 0):\n",
    "            primo = False\n",
    "    if (primo):\n",
    "        print(num)\n",
    "    else:\n",
    "        primo = True\n",
    "    num += 1"
   ]
  },
  {
   "cell_type": "code",
   "execution_count": 41,
   "metadata": {},
   "outputs": [
    {
     "name": "stdout",
     "output_type": "stream",
     "text": [
      "0\n",
      "1\n",
      "2\n",
      "3\n",
      "5\n",
      "7\n",
      "11\n",
      "13\n",
      "17\n",
      "19\n",
      "23\n",
      "29\n"
     ]
    }
   ],
   "source": [
    "#10 ¿Se puede mejorar el proceso del punto 9? Utilizar las sentencias break y/ó continue para tal fin\n",
    "maximo=30\n",
    "num = 0\n",
    "primo = True\n",
    "while (num < maximo):\n",
    "    for div in range(2, num):\n",
    "        if (num % div == 0):\n",
    "            primo = False\n",
    "            break\n",
    "    if (primo):\n",
    "        print(num)\n",
    "    else:\n",
    "        primo = True\n",
    "    num += 1\n"
   ]
  },
  {
   "cell_type": "code",
   "execution_count": 42,
   "metadata": {},
   "outputs": [
    {
     "name": "stdout",
     "output_type": "stream",
     "text": [
      "0\n",
      "1\n",
      "2\n",
      "3\n",
      "5\n",
      "7\n",
      "11\n",
      "13\n",
      "17\n",
      "19\n",
      "23\n",
      "29\n",
      "Cantidad de ciclos: 378\n"
     ]
    }
   ],
   "source": [
    "#11 En los puntos 9 y 10, se diseño un código que encuentra números primos y además se lo optimizó. ¿Es posible saber en qué medida se optimizó?\n",
    "contador_sin_break = 0\n",
    "maximo=30\n",
    "num = 0\n",
    "primo = True\n",
    "while (num < maximo):\n",
    "    for div in range(2, num):\n",
    "        contador_sin_break+=1\n",
    "        if (num % div == 0):\n",
    "            primo = False\n",
    "    if (primo):\n",
    "        print(num)\n",
    "    else:\n",
    "        primo = True\n",
    "    num += 1\n",
    "print('Cantidad de ciclos: ' + str(contador_sin_break))"
   ]
  },
  {
   "cell_type": "code",
   "execution_count": 43,
   "metadata": {},
   "outputs": [
    {
     "name": "stdout",
     "output_type": "stream",
     "text": [
      "0\n",
      "1\n",
      "2\n",
      "3\n",
      "5\n",
      "7\n",
      "11\n",
      "13\n",
      "17\n",
      "19\n",
      "23\n",
      "29\n",
      "Cantidad de ciclos: 134\n",
      "Se optimizó a un 0.3544973544973545% de ciclos aplicando break\n"
     ]
    }
   ],
   "source": [
    "contador_break = 0\n",
    "maximo=30\n",
    "num = 0\n",
    "primo = True\n",
    "while (num < maximo):\n",
    "    for div in range(2, num):\n",
    "        contador_break+=1\n",
    "        if (num % div == 0):\n",
    "            primo = False\n",
    "            break\n",
    "    if (primo):\n",
    "        print(num)\n",
    "    else:\n",
    "        primo = True\n",
    "    num += 1\n",
    "print('Cantidad de ciclos: ' + str(contador_break))\n",
    "\n",
    "print('Se optimizó a un ' + str(contador_break/contador_sin_break) + '% de ciclos aplicando break')"
   ]
  },
  {
   "cell_type": "code",
   "execution_count": 44,
   "metadata": {},
   "outputs": [
    {
     "name": "stdout",
     "output_type": "stream",
     "text": [
      "108 es divisible por 12\n",
      "120 es divisible por 12\n",
      "132 es divisible por 12\n",
      "144 es divisible por 12\n",
      "156 es divisible por 12\n",
      "168 es divisible por 12\n",
      "180 es divisible por 12\n",
      "192 es divisible por 12\n",
      "204 es divisible por 12\n",
      "216 es divisible por 12\n",
      "228 es divisible por 12\n",
      "240 es divisible por 12\n",
      "252 es divisible por 12\n",
      "264 es divisible por 12\n",
      "276 es divisible por 12\n",
      "288 es divisible por 12\n",
      "300 es divisible por 12\n"
     ]
    }
   ],
   "source": [
    "#12 Aplicando continue, armar un ciclo while que solo imprima los valores divisibles por 12, dentro del rango de números de 100 a 300\n",
    "n=99\n",
    "while(n<=300):\n",
    "    n+=1\n",
    "    if(n%12!=0):\n",
    "        continue\n",
    "    print(n, 'es divisible por 12')\n",
    "\n",
    "    \n",
    "    "
   ]
  },
  {
   "cell_type": "code",
   "execution_count": 45,
   "metadata": {},
   "outputs": [
    {
     "name": "stdout",
     "output_type": "stream",
     "text": [
      "1\n",
      "¿Desea encontrar el siguiente número primo?\n",
      "2\n",
      "¿Desea encontrar el siguiente número primo?\n",
      "3\n",
      "¿Desea encontrar el siguiente número primo?\n",
      "5\n",
      "¿Desea encontrar el siguiente número primo?\n",
      "Se finaliza el proceso\n"
     ]
    }
   ],
   "source": [
    "#13 Utilizar la función input() que permite hacer ingresos por teclado, para encontrar números primos y dar la opción al usario de buscar el siguiente\n",
    "n = 1\n",
    "sigue = 1\n",
    "primo = True\n",
    "while (sigue == 1):\n",
    "    for div in range(2, n):\n",
    "        if (n % div == 0):\n",
    "            primo = False\n",
    "            break\n",
    "    if (primo):\n",
    "        print(n)\n",
    "        print('¿Desea encontrar el siguiente número primo?')\n",
    "        if (input() != '1'):\n",
    "            print('Se finaliza el proceso')\n",
    "            break\n",
    "    else:\n",
    "        primo = True\n",
    "    n += 1\n"
   ]
  },
  {
   "cell_type": "code",
   "execution_count": 46,
   "metadata": {},
   "outputs": [
    {
     "name": "stdout",
     "output_type": "stream",
     "text": [
      "102 es divisible por 3 y múltiplo de 6\n"
     ]
    }
   ],
   "source": [
    "#14 Crear un ciclo while que encuentre dentro del rango de 100 a 300 el primer número divisible por 3 y además múltiplo de 6\n",
    "n=99\n",
    "while(n<=300):\n",
    "    n+=1\n",
    "    if(n%6 == 0):\n",
    "        print(n, 'es divisible por 3 y múltiplo de 6')\n",
    "        break\n",
    "    "
   ]
  }
 ],
 "metadata": {
  "kernelspec": {
   "display_name": "Python 3",
   "language": "python",
   "name": "python3"
  },
  "language_info": {
   "codemirror_mode": {
    "name": "ipython",
    "version": 3
   },
   "file_extension": ".py",
   "mimetype": "text/x-python",
   "name": "python",
   "nbconvert_exporter": "python",
   "pygments_lexer": "ipython3",
   "version": "3.12.2"
  }
 },
 "nbformat": 4,
 "nbformat_minor": 2
}
